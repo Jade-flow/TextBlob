{
  "nbformat": 4,
  "nbformat_minor": 0,
  "metadata": {
    "colab": {
      "name": "word_frequency_student.ipynb",
      "provenance": [],
      "collapsed_sections": [],
      "authorship_tag": "ABX9TyN+SJrCIfFHn77aHB4pEgfw",
      "include_colab_link": true
    },
    "kernelspec": {
      "name": "python3",
      "display_name": "Python 3"
    },
    "language_info": {
      "name": "python"
    }
  },
  "cells": [
    {
      "cell_type": "markdown",
      "metadata": {
        "id": "view-in-github",
        "colab_type": "text"
      },
      "source": [
        "<a href=\"https://colab.research.google.com/github/Jade-flow/TextBlob/blob/master/python/word_frequency_student.ipynb\" target=\"_parent\"><img src=\"https://colab.research.google.com/assets/colab-badge.svg\" alt=\"Open In Colab\"/></a>"
      ]
    },
    {
      "cell_type": "markdown",
      "metadata": {
        "id": "OkGzzAqtIk44"
      },
      "source": [
        "Write a script which displays nonduplicate words in the following paragraphy in ascending order of occurrences.\n",
        "\n",
        "Gradient descent is a first-order iterative optimization algorithm for finding a local minimum of a differentiable function. The idea is to take repeated steps in the opposite direction of the gradient (or approximate gradient) of the function at the current point, because this is the direction of steepest descent. Conversely, stepping in the direction of the gradient will lead to a local maximum of that function; the procedure is then known as gradient ascent."
      ]
    },
    {
      "cell_type": "code",
      "metadata": {
        "colab": {
          "base_uri": "https://localhost:8080/",
          "height": 321
        },
        "id": "i4FL1RmziIxP",
        "outputId": "0018f1e0-acff-42fe-97a1-e9536b69aef5"
      },
      "source": [
        "# Embedded video word_frequency\n",
        "from IPython.display import YouTubeVideo\n",
        "YouTubeVideo('LeuOoVfMwo4')"
      ],
      "execution_count": null,
      "outputs": [
        {
          "output_type": "execute_result",
          "data": {
            "text/html": [
              "\n",
              "        <iframe\n",
              "            width=\"400\"\n",
              "            height=\"300\"\n",
              "            src=\"https://www.youtube.com/embed/LeuOoVfMwo4\"\n",
              "            frameborder=\"0\"\n",
              "            allowfullscreen\n",
              "        ></iframe>\n",
              "        "
            ],
            "text/plain": [
              "<IPython.lib.display.YouTubeVideo at 0x7f636685e610>"
            ]
          },
          "metadata": {},
          "execution_count": 26
        }
      ]
    },
    {
      "cell_type": "code",
      "metadata": {
        "id": "F0A_ssyOInsO"
      },
      "source": [
        "text = \"apple pear apple tree\"\n",
        "# expected output\n",
        "word_frequency = {\n",
        "    \"apple\": 2,\n",
        "    \"pear\": 1,\n",
        "    \"tree\": 1\n",
        "}"
      ],
      "execution_count": null,
      "outputs": []
    },
    {
      "cell_type": "code",
      "metadata": {
        "colab": {
          "base_uri": "https://localhost:8080/"
        },
        "id": "Y4KtVZzXKDqa",
        "outputId": "fa181a4c-1f13-468b-c42c-403765101ae7"
      },
      "source": [
        "# 1. discover all distinct words\n",
        "words = []\n",
        "\n",
        "print(words)\n",
        "\n",
        "\n",
        "# 2. Count\n",
        "frequency = [0] * len(words)\n",
        "\n",
        "\n",
        "\n",
        "print(frequency)\n",
        "\n",
        "# 3. Sort frequency\n"
      ],
      "execution_count": null,
      "outputs": [
        {
          "output_type": "stream",
          "name": "stdout",
          "text": [
            "['apple', 'pear', 'tree']\n",
            "[2, 1, 1]\n"
          ]
        }
      ]
    },
    {
      "cell_type": "markdown",
      "metadata": {
        "id": "5vJskEkUMQlF"
      },
      "source": [
        "## Time complexity\n",
        "\n",
        "If `words` is a list, \n",
        "-  `NOT IN` is O(N)\n",
        "-  list.index() is O(N)\n",
        "\n",
        "If it's a set, \n",
        "-  `NOT IN` is O(1).\n"
      ]
    },
    {
      "cell_type": "markdown",
      "metadata": {
        "id": "OXxHwpCwMW6-"
      },
      "source": [
        "## Using Set"
      ]
    },
    {
      "cell_type": "code",
      "metadata": {
        "colab": {
          "base_uri": "https://localhost:8080/"
        },
        "id": "QaTD3ygyMchh",
        "outputId": "f2c29c42-ae98-435c-d783-3d4d9a0c0a80"
      },
      "source": [
        "text = \"apple pear apple tree\"\n",
        "input = text.split()\n",
        "\n",
        "# distinct words\n",
        "unique = set(input)\n",
        "#### incomplete\n",
        "\n",
        "\n",
        "# count\n",
        "words = list(unique)\n",
        "frequency = [0] * len(words)\n",
        "for w in input:\n",
        "  frequency[words.index(w)] += 1\n",
        "\n",
        "print(words, frequency)"
      ],
      "execution_count": null,
      "outputs": [
        {
          "output_type": "stream",
          "name": "stdout",
          "text": [
            "['pear', 'apple', 'tree'] [1, 2, 1]\n"
          ]
        }
      ]
    },
    {
      "cell_type": "markdown",
      "metadata": {
        "id": "WNkqpI2fMkwW"
      },
      "source": [
        "## Combine two lists in a dictionary\n",
        "\n",
        "words and frequency "
      ]
    },
    {
      "cell_type": "code",
      "metadata": {
        "colab": {
          "base_uri": "https://localhost:8080/"
        },
        "id": "MiAe9a5gMoGR",
        "outputId": "48da40bf-c8a8-4e52-97b1-5a624394c9fc"
      },
      "source": [
        "word_frequency = {}\n",
        "\n",
        "# combine words and frequency\n",
        "for w,f in zip(words, frequency):\n",
        "  word_frequency.update( {w:f} )\n",
        "\n",
        "#print(word_frequency)\n",
        "\n",
        "word_frequency['apple']"
      ],
      "execution_count": null,
      "outputs": [
        {
          "output_type": "execute_result",
          "data": {
            "text/plain": [
              "2"
            ]
          },
          "metadata": {},
          "execution_count": 13
        }
      ]
    },
    {
      "cell_type": "markdown",
      "metadata": {
        "id": "Iu_qZfEcM0Xg"
      },
      "source": [
        "## Group operations in a single function"
      ]
    },
    {
      "cell_type": "code",
      "metadata": {
        "id": "BlIlCSfEM3yp"
      },
      "source": [
        "def count_word_frequency(text):\n",
        "  \"\"\"count_word_frequency(\"sunny day good day\")\n",
        "  \"\"\"\n",
        "  input = text.split()\n",
        "  input_set = set(text.split())\n",
        "  # distinct\n",
        "\n",
        "\n",
        "  # count\n",
        "\n",
        "\n",
        "  # combine\n",
        "  \n",
        "\n",
        "  return word_frequency"
      ],
      "execution_count": null,
      "outputs": []
    },
    {
      "cell_type": "code",
      "metadata": {
        "colab": {
          "base_uri": "https://localhost:8080/"
        },
        "id": "0EDojR6MNDTu",
        "outputId": "897a669e-edcc-479e-a98a-9154e33fd27c"
      },
      "source": [
        "# test program\n",
        "text =\"sunny day ! good day Autumn DAY , \"\n",
        "count_word_frequency(text)"
      ],
      "execution_count": null,
      "outputs": [
        {
          "output_type": "execute_result",
          "data": {
            "text/plain": [
              "{'!': 1, ',': 1, 'Autumn': 1, 'DAY': 1, 'day': 2, 'good': 1, 'sunny': 1}"
            ]
          },
          "metadata": {},
          "execution_count": 25
        }
      ]
    },
    {
      "cell_type": "markdown",
      "metadata": {
        "id": "1Bpk6S7uNJqZ"
      },
      "source": [
        ""
      ]
    },
    {
      "cell_type": "markdown",
      "metadata": {
        "id": "pC_39MroNNPA"
      },
      "source": [
        "## Numpy.unique\n",
        "\n",
        "Returns the sorted unique elements of an array.\n",
        "\n",
        "https://numpy.org/doc/stable/reference/generated/numpy.unique.html "
      ]
    },
    {
      "cell_type": "code",
      "metadata": {
        "colab": {
          "base_uri": "https://localhost:8080/"
        },
        "id": "GmhDPdosNPxa",
        "outputId": "47b542ca-5720-4a7c-bf9a-76de9894e74b"
      },
      "source": [
        "import numpy as np\n",
        "\n",
        "text = \"apple pear apple tree ,\"\n",
        "np.array(text.split())\n",
        "np.unique(np.array(text.split()))\n",
        "np.unique(np.array(text.split()), return_counts=True)\n",
        "words, frequency = np.unique(np.array(text.split()), return_counts=True)\n",
        "print(words, frequency)"
      ],
      "execution_count": null,
      "outputs": [
        {
          "output_type": "stream",
          "name": "stdout",
          "text": [
            "[',' 'apple' 'pear' 'tree'] [1 2 1 1]\n"
          ]
        }
      ]
    },
    {
      "cell_type": "markdown",
      "metadata": {
        "id": "E0aIJwhgy73k"
      },
      "source": [
        "## Enable Case-insensitive & Remove Punctuations"
      ]
    },
    {
      "cell_type": "code",
      "metadata": {
        "colab": {
          "base_uri": "https://localhost:8080/"
        },
        "id": "CTyihncIy63e",
        "outputId": "55136386-7097-4bc4-a063-b19bd7c598e2"
      },
      "source": [
        "text =\"sunny day ! good day Autumn DAY , \"\n",
        "input = text.split()\n",
        "words_1 = set(text.split())\n",
        "print(words_1)\n",
        "toLower = [ w.lower() for w in list(words_1) ]\n",
        "print(toLower)\n",
        "words_2 = set(toLower)\n",
        "print(words_2)\n",
        "punctuations = '''!()-[]{};:'\"\\,<>./?@#$%^&*_~'''\n",
        "words_3 = [ w for w in list(words_2) if w not in punctuations ]\n",
        "print(words_3)"
      ],
      "execution_count": 1,
      "outputs": [
        {
          "output_type": "stream",
          "name": "stdout",
          "text": [
            "{'!', 'day', 'DAY', 'Autumn', ',', 'good', 'sunny'}\n",
            "['!', 'day', 'day', 'autumn', ',', 'good', 'sunny']\n",
            "{'!', 'day', 'autumn', ',', 'good', 'sunny'}\n",
            "['day', 'autumn', 'good', 'sunny']\n"
          ]
        }
      ]
    },
    {
      "cell_type": "markdown",
      "metadata": {
        "id": "QbdDljYbNZc1"
      },
      "source": [
        "## Submission\n",
        "\n",
        "### Case-insensitive\n",
        "\n",
        "In the cell of test program, `DAY` and `day` are treated as two words. Modify the `count_word_frequency(text)` function and enable case-insensitive, so `DAY` and `day` are the same word. \n",
        "\n",
        "\n",
        "### Punctuations\n",
        "\n",
        "Refer to text page 493 `replacePunctuations()` function. Modify the `count_word_frequency(text)` function. The function should omit all the punctuations in the given text and exclude them from the return. \n",
        "\n",
        "\n",
        "### Submit a notebook, containing the new `count_word_frequency` function and its test program. The function should eb case-insensitive and punctuations-exclusive."
      ]
    }
  ]
}